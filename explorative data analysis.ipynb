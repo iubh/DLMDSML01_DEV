{
 "cells": [
  {
   "cell_type": "markdown",
   "metadata": {},
   "source": [
    "Copyright © 2020 IUBH Internationale Hochschule"
   ]
  },
  {
   "cell_type": "markdown",
   "metadata": {},
   "source": [
    "**explorative data analysis**\n",
    "\n",
    "\"Exploratory Data Analysis refers to the critical process of performing initial investigations on data so as to discover patterns,to spot anomalies,to test hypothesis and to check assumptions with the help of summary statistics and graphical representations.\" [1]\n",
    "\n",
    "This notebook should give some introductiory samples to the explorative data analysis topic:\n",
    "\n",
    "- introduction of the scikit-learn iris-dataset [->](#iris)\n",
    "- scatter plot of 'sepal length' vs 'sepal width' in relation to their classes [->](#scat1)\n",
    "- correlation matrix of the features [->](#corrMat)\n",
    "- box-plot of features [->](#boxplot)\n",
    "- andrew's curves plot [->](#ac)\n",
    "- parallel coordinates plot [->](#parallelCoordinates)\n",
    "- 'RadViz' plot [->](#radviz)\n",
    "\n",
    "[1], [What is Exploratory Data Analysis?](https://towardsdatascience.com/exploratory-data-analysis-8fc1cb20fd15), visited on 24.08.2020"
   ]
  },
  {
   "cell_type": "markdown",
   "metadata": {},
   "source": [
    "<a id=\"iris\">**Iris Dataset**</a><br>\n",
    "In this notebook the iris-dataset is used for demonstrating different kinds of data visualizations.\n",
    "\n",
    "\"The Iris flower data set or Fisher's Iris data set is a multivariate data set introduced by the British statistician, eugenicist, and biologist Ronald Fisher in his 1936 paper The use of multiple measurements in taxonomic problems as an example of linear discriminant analysis.[1] It is sometimes called Anderson's Iris data set because Edgar Anderson collected the data to quantify the morphologic variation of Iris flowers of three related species.[2] Two of the three species were collected in the Gaspé Peninsula \"all from the same pasture, and picked on the same day and measured at the same time by the same person with the same apparatus\".[3] Fisher's paper was published in the journal, the Annals of Eugenics, creating controversy about the continued use of the Iris dataset for teaching statistical techniques today.\n",
    "\n",
    "The data set consists of 50 samples from each of three species of Iris (Iris setosa, Iris virginica and Iris versicolor). Four features were measured from each sample: the length and the width of the sepals and petals, in centimeters. Based on the combination of these four features, Fisher developed a linear discriminant model to distinguish the species from each other.\"[1]\n",
    "\n",
    "In scikit-learn the dataset is an object of the [Bunch](https://scikit-learn.org/stable/modules/generated/sklearn.utils.Bunch.html#sklearn.utils.Bunch) class which is a container exposing keys of attributes.<br>\n",
    "Detailled description of the iris data set on scikit-learn:  [scikit.datasets](https://scikit-learn.org/stable/datasets/index.html#iris-dataset)\n",
    "\n",
    "[1]  Iris_flower_data_set, wikipedia [link](https://en.wikipedia.org/wiki/Iris_flower_data_set)"
   ]
  },
  {
   "cell_type": "code",
   "execution_count": null,
   "metadata": {},
   "outputs": [],
   "source": [
    "# load iris dataset and load it into a pands dataframe\n",
    "#\n",
    "from sklearn.datasets import load_iris\n",
    "import pandas as pd\n",
    "#\n",
    "# - load the dataframe manually:\n",
    "# load numeric data into frame:\n",
    "skBunch_iris = load_iris()\n",
    "df_man = pd.DataFrame(skBunch_iris['data'], columns=skBunch_iris['feature_names'])\n",
    "#\n",
    "# add the iris-class names\n",
    "targets = skBunch_iris['target']\n",
    "target_names = skBunch_iris['target_names']\n",
    "#\n",
    "df_man['class'] = target_names[targets]"
   ]
  },
  {
   "cell_type": "code",
   "execution_count": null,
   "metadata": {},
   "outputs": [],
   "source": [
    "# Return a tuple representing the dimensionality of the DataFrame.\n",
    "df_man.shape\n",
    "# "
   ]
  },
  {
   "cell_type": "code",
   "execution_count": null,
   "metadata": {},
   "outputs": [],
   "source": [
    "#Return the first n rows. default: n=5\n",
    "df_man.head()"
   ]
  },
  {
   "cell_type": "code",
   "execution_count": null,
   "metadata": {},
   "outputs": [],
   "source": [
    "# Generate descriptive statistics\n",
    "df_man.describe()"
   ]
  },
  {
   "cell_type": "markdown",
   "metadata": {},
   "source": [
    "<a id=\"scat1\">**Plot 2 features in relation to their class**</a>\n",
    "\n",
    "Plot a simple scatter plot of 2 features of the iris dataset. [1]\n",
    "\n",
    "[1], [scikit-learn example](http://scipy-lectures.org/packages/scikit-learn/auto_examples/plot_iris_scatter.html)"
   ]
  },
  {
   "cell_type": "code",
   "execution_count": null,
   "metadata": {},
   "outputs": [],
   "source": [
    "#\n",
    "# plot data in a scatter-plot\n",
    "#\n",
    "import matplotlib.pyplot as plt\n",
    "#\n",
    "#\n",
    "# this formatter will label the colorbar with the correct target names\n",
    "formatter = plt.FuncFormatter(lambda i, *args: skBunch_iris.target_names[int(i)])\n",
    "\n",
    "plt.figure(figsize=(8, 6))\n",
    "plt.scatter(df_man['sepal length (cm)'], df_man['sepal width (cm)'], c=targets)\n",
    "plt.colorbar(ticks=[0, 1, 2], format=formatter)\n",
    "plt.xlabel('sepal length (cm)')\n",
    "plt.ylabel('sepal width (cm)')\n",
    "\n",
    "plt.tight_layout()\n",
    "plt.show()"
   ]
  },
  {
   "cell_type": "markdown",
   "metadata": {},
   "source": [
    "<a id=\"corrMat\">**correlation matrix**</a><br>\n",
    "Compute pairwise correlation of columns, excluding NA/null values.\n",
    "\n",
    "description of the function:\n",
    "\n",
    "**DataFrame.corr(method='pearson', min_periods=1)**\n",
    "<br>Parameters:\n",
    "- method{‘pearson’, ‘kendall’, ‘spearman’} or callable Method of correlation:<br>\n",
    "\n",
    "    pearson : standard correlation coefficient\n",
    "\n",
    "    kendall : Kendall Tau correlation coefficient\n",
    "\n",
    "    spearman : Spearman rank correlation\n",
    "\n",
    "    callable: callable with input two 1d ndarrays and returning a float. Note that the returned matrix from corr will have 1 along the diagonals and will be symmetric regardless of the callable’s behavior.\n",
    "\n",
    "    New in version 0.24.0.<br>\n",
    "\n",
    "- min_periods (int), optional:<br>Minimum number of observations required per pair of columns to have a valid result. Currently only available for Pearson and Spearman correlation.\n",
    "\n",
    "<br>Returns: \n",
    "- DataFrame Correlation matrix. [1]\n",
    "\n",
    "[1],[pandas api](https://pandas.pydata.org/pandas-docs/stable/reference/api/pandas.DataFrame.corr.html)"
   ]
  },
  {
   "cell_type": "code",
   "execution_count": null,
   "metadata": {},
   "outputs": [],
   "source": [
    "# correlation matrix of feature_names\n",
    "# \n",
    "# create dataframe without class-column\n",
    "dfFeature = pd.DataFrame(skBunch_iris['data'], columns=skBunch_iris['feature_names'])\n",
    "#\n",
    "f = plt.figure(figsize=(8, 6))\n",
    "corrM = dfFeature.corr()\n",
    "#\n",
    "plt.matshow(corrM, fignum=f.number, cmap=plt.get_cmap('plasma'))\n",
    "plt.xticks(range(dfFeature.shape[1]), dfFeature.columns, fontsize=11, rotation=45)\n",
    "plt.yticks(range(dfFeature.shape[1]), dfFeature.columns, fontsize=11)\n",
    "cb = plt.colorbar()\n",
    "cb.ax.tick_params(labelsize=11)\n",
    "# plt.title('Correlation Matrix', fontsize=14);\n",
    "\n",
    "plt.show()"
   ]
  },
  {
   "cell_type": "markdown",
   "metadata": {},
   "source": [
    "<a id=\"boxplot\">**Boxplot of each of the features**</a>\n",
    "\n",
    "\"Make a box-and-whisker plot from DataFrame columns, optionally grouped by some other columns.<br> A box plot is a method for graphically depicting groups of numerical data through their quartiles. The box extends from the Q1 to Q3 quartile values of the data, with a line at the median (Q2).<br> The whiskers extend from the edges of box to show the range of the data. By default, they extend no more than 1.5 * IQR (IQR = Q3 - Q1) from the edges of the box, ending at the farthest data point within that interval. Outliers are plotted as separate dots.\"[1]\n",
    "\n",
    "[1], [pandas api](https://pandas.pydata.org/pandas-docs/stable/reference/api/pandas.plotting.boxplot.html)"
   ]
  },
  {
   "cell_type": "code",
   "execution_count": null,
   "metadata": {},
   "outputs": [],
   "source": [
    "# box plot of each of the features\n",
    "#\n",
    "df_man.plot(kind='box', subplots=True, layout=(2,2), sharex=False, sharey=False, figsize=(8, 6))\n",
    "plt.show()"
   ]
  },
  {
   "cell_type": "markdown",
   "metadata": {},
   "source": [
    "<a id=\"ac\">**Andrews curves**</a>\n",
    "\n",
    "\"Andrews curves allow one to plot multivariate data as a large number of curves that are created using the attributes of samples as coefficients for Fourier series, see the [Wikipedia entry](https://en.wikipedia.org/wiki/Andrews_plot) for more information. By coloring these curves differently for each class it is possible to visualize data clustering. Curves belonging to samples of the same class will usually be closer together and form larger structures.\" [1]\n",
    "\n",
    "[1],  [pandas plotting-tools](https://pandas.pydata.org/pandas-docs/stable/user_guide/visualization.html#plotting-tools)"
   ]
  },
  {
   "cell_type": "code",
   "execution_count": null,
   "metadata": {},
   "outputs": [],
   "source": [
    "\n",
    "from pandas.plotting import andrews_curves\n",
    "#\n",
    "andrews_curves(df_man, 'class', colormap='jet')\n",
    "#"
   ]
  },
  {
   "cell_type": "markdown",
   "metadata": {},
   "source": [
    "<a id=\"parallelCoordinates\">**Parallel coordinates**</a>\n",
    "\n",
    "\"Parallel coordinates is a plotting technique for plotting multivariate data, see the [Wikipedia entry](https://en.wikipedia.org/wiki/Parallel_coordinates) for an introduction. Parallel coordinates allows one to see clusters in data and to estimate other statistics visually. Using parallel coordinates points are represented as connected line segments. Each vertical line represents one attribute. One set of connected line segments represents one data point. Points that tend to cluster will appear closer together.\" [1]\n",
    "\n",
    "[1], [pandas plotting-tools](https://pandas.pydata.org/pandas-docs/stable/user_guide/visualization.html#plotting-tools)"
   ]
  },
  {
   "cell_type": "code",
   "execution_count": null,
   "metadata": {},
   "outputs": [],
   "source": [
    "#\n",
    "from pandas.plotting import parallel_coordinates\n",
    "#\n",
    "parallel_coordinates(df_man, 'class', colormap='jet')\n",
    "#"
   ]
  },
  {
   "cell_type": "markdown",
   "metadata": {},
   "source": [
    "<a id=\"radviz\">**RadViz-plot**</a>\n",
    "\n",
    "\"RadViz is a way of visualizing multi-variate data. It is based on a simple spring tension minimization algorithm. Basically you set up a bunch of points in a plane. In our case they are equally spaced on a unit circle. Each point represents a single attribute. You then pretend that each sample in the data set is attached to each of these points by a spring, the stiffness of which is proportional to the numerical value of that attribute (they are normalized to unit interval). The point in the plane, where our sample settles to (where the forces acting on our sample are at an equilibrium) is where a dot representing our sample will be drawn. Depending on which class that sample belongs it will be colored differently. See the R package [Radviz](https://cran.r-project.org/package=Radviz/) for more information.\" [1]\n",
    "\n",
    "[1], [pandas plotting-tools](https://pandas.pydata.org/pandas-docs/stable/user_guide/visualization.html#plotting-tools)"
   ]
  },
  {
   "cell_type": "code",
   "execution_count": null,
   "metadata": {},
   "outputs": [],
   "source": [
    "#\n",
    "from pandas.plotting import radviz\n",
    "#\n",
    "radviz(df_man, 'class', colormap='Spectral')"
   ]
  },
  {
   "cell_type": "markdown",
   "metadata": {},
   "source": [
    "Copyright © 2020 IUBH Internationale Hochschule"
   ]
  }
 ],
 "metadata": {
  "kernelspec": {
   "display_name": "Python 3",
   "language": "python",
   "name": "python3"
  },
  "language_info": {
   "codemirror_mode": {
    "name": "ipython",
    "version": 3
   },
   "file_extension": ".py",
   "mimetype": "text/x-python",
   "name": "python",
   "nbconvert_exporter": "python",
   "pygments_lexer": "ipython3",
   "version": "3.8.2"
  },
  "nbTranslate": {
   "displayLangs": [
    "*"
   ],
   "hotkey": "alt-t",
   "langInMainMenu": true,
   "sourceLang": "en",
   "targetLang": "fr",
   "useGoogleTranslate": true
  }
 },
 "nbformat": 4,
 "nbformat_minor": 4
}
